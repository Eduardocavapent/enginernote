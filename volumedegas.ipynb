{
  "nbformat": 4,
  "nbformat_minor": 0,
  "metadata": {
    "colab": {
      "provenance": [],
      "authorship_tag": "ABX9TyPrymrdEMjlsCXWRV26fszV",
      "include_colab_link": true
    },
    "kernelspec": {
      "name": "python3",
      "display_name": "Python 3"
    },
    "language_info": {
      "name": "python"
    }
  },
  "cells": [
    {
      "cell_type": "markdown",
      "metadata": {
        "id": "view-in-github",
        "colab_type": "text"
      },
      "source": [
        "<a href=\"https://colab.research.google.com/github/Eduardocavapent/enginernote/blob/main/volumedegas.ipynb\" target=\"_parent\"><img src=\"https://colab.research.google.com/assets/colab-badge.svg\" alt=\"Open In Colab\"/></a>"
      ]
    },
    {
      "cell_type": "code",
      "source": [
        "# Função para calcular o volume de gás\n",
        "def calcular_volume_gas(A_km2, h_m, phi, Sw, Bg):\n",
        "\n",
        "# Converção área de km² para m²\n",
        "    A_m2 = A_km2 * 1_000_000\n",
        "\n",
        "# Aplicar a fórmula\n",
        "    Vg = (A_m2 * h_m * phi * (1 - Sw)) / Bg\n",
        "\n",
        "    return Vg\n",
        "\n",
        "# Dados de Entrada\n",
        "A = 2.5     # km²\n",
        "h = 15      # m\n",
        "phi = 0.18  # fração\n",
        "Sw = 0.25   # fração\n",
        "Bg = 0.005  # m³/m³\n",
        "\n",
        "# Chamando a função\n",
        "volume_gas = calcular_volume_gas(A, h, phi, Sw, Bg)\n",
        "\n",
        "# Exibir resultado\n",
        "print(f\"O volume de gás no reservatório é: {volume_gas:,.2f} m³\")\n"
      ],
      "metadata": {
        "colab": {
          "base_uri": "https://localhost:8080/"
        },
        "id": "j9LcpvOu_PZi",
        "outputId": "839897f3-2f4f-42aa-f870-0a73463340a2"
      },
      "execution_count": null,
      "outputs": [
        {
          "output_type": "stream",
          "name": "stdout",
          "text": [
            "O volume de gás no reservatório é: 1,012,500,000.00 m³\n"
          ]
        }
      ]
    }
  ]
}